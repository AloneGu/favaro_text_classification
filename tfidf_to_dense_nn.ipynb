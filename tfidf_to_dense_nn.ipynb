{
 "cells": [
  {
   "cell_type": "code",
   "execution_count": 18,
   "metadata": {},
   "outputs": [
    {
     "name": "stdout",
     "output_type": "stream",
     "text": [
      "     v1                                                 v2 Unnamed: 2  \\\n",
      "0   ham  Go until jurong point, crazy.. Available only ...        NaN   \n",
      "1   ham                      Ok lar... Joking wif u oni...        NaN   \n",
      "2  spam  Free entry in 2 a wkly comp to win FA Cup fina...        NaN   \n",
      "3   ham  U dun say so early hor... U c already then say...        NaN   \n",
      "4   ham  Nah I don't think he goes to usf, he lives aro...        NaN   \n",
      "\n",
      "  Unnamed: 3 Unnamed: 4  \n",
      "0        NaN        NaN  \n",
      "1        NaN        NaN  \n",
      "2        NaN        NaN  \n",
      "3        NaN        NaN  \n",
      "4        NaN        NaN  \n"
     ]
    }
   ],
   "source": [
    "import numpy as np # linear algebra\n",
    "import pandas as pd # data processing, CSV file I/O (e.g. pd.read_csv)\n",
    "DATA_FILE = 'spam.csv'\n",
    "df = pd.read_csv(DATA_FILE,encoding='latin-1')\n",
    "print(df.head())\n",
    "tags = df.v1\n",
    "texts = df.v2"
   ]
  },
  {
   "cell_type": "code",
   "execution_count": 19,
   "metadata": {},
   "outputs": [
    {
     "name": "stdout",
     "output_type": "stream",
     "text": [
      "[1, 1, 0, 1, 1, 0, 1, 1, 0, 0]\n"
     ]
    }
   ],
   "source": [
    "# change y to int\n",
    "y = [1 if tmp_y=='ham' else 0 for tmp_y in tags]\n",
    "print(y[:10])"
   ]
  },
  {
   "cell_type": "code",
   "execution_count": 7,
   "metadata": {},
   "outputs": [
    {
     "name": "stdout",
     "output_type": "stream",
     "text": [
      "<class 'numpy.ndarray'> (5572, 100)\n"
     ]
    }
   ],
   "source": [
    "from sklearn.feature_extraction.text import TfidfVectorizer\n",
    "vec = TfidfVectorizer(max_features=100)\n",
    "tfidf_mat = vec.fit_transform(texts).toarray()\n",
    "print(type(tfidf_mat),tfidf_mat.shape)  # 5572 doc, tfidf 100 dimension"
   ]
  },
  {
   "cell_type": "code",
   "execution_count": 25,
   "metadata": {},
   "outputs": [
    {
     "name": "stdout",
     "output_type": "stream",
     "text": [
      "_________________________________________________________________\n",
      "Layer (type)                 Output Shape              Param #   \n",
      "=================================================================\n",
      "dense_13 (Dense)             (None, 64)                6464      \n",
      "_________________________________________________________________\n",
      "dropout_8 (Dropout)          (None, 64)                0         \n",
      "_________________________________________________________________\n",
      "activation_13 (Activation)   (None, 64)                0         \n",
      "_________________________________________________________________\n",
      "dense_14 (Dense)             (None, 64)                4160      \n",
      "_________________________________________________________________\n",
      "dropout_9 (Dropout)          (None, 64)                0         \n",
      "_________________________________________________________________\n",
      "activation_14 (Activation)   (None, 64)                0         \n",
      "_________________________________________________________________\n",
      "dense_15 (Dense)             (None, 1)                 65        \n",
      "_________________________________________________________________\n",
      "activation_15 (Activation)   (None, 1)                 0         \n",
      "=================================================================\n",
      "Total params: 10,689\n",
      "Trainable params: 10,689\n",
      "Non-trainable params: 0\n",
      "_________________________________________________________________\n"
     ]
    }
   ],
   "source": [
    "# build model\n",
    "from keras.models import Sequential\n",
    "from keras.layers import Dense, Dropout, Activation, Conv1D, GlobalMaxPooling1D\n",
    "\n",
    "\n",
    "model = Sequential()\n",
    "model.add(Dense(64,input_shape=(100,)))\n",
    "model.add(Dropout(0.2))\n",
    "model.add(Activation('relu'))\n",
    "model.add(Dense(64))\n",
    "model.add(Dropout(0.2))\n",
    "model.add(Activation('relu'))\n",
    "model.add(Dense(1))\n",
    "model.add(Activation('sigmoid'))\n",
    "model.summary()\n",
    "model.compile(loss='binary_crossentropy',\n",
    "              optimizer='adam',\n",
    "              metrics=['acc'])"
   ]
  },
  {
   "cell_type": "code",
   "execution_count": 26,
   "metadata": {},
   "outputs": [
    {
     "name": "stdout",
     "output_type": "stream",
     "text": [
      "Train on 4457 samples, validate on 1115 samples\n",
      "Epoch 1/10\n",
      "4457/4457 [==============================] - 1s 324us/step - loss: 0.3867 - acc: 0.8472 - val_loss: 0.2245 - val_acc: 0.8700\n",
      "Epoch 2/10\n",
      "4457/4457 [==============================] - 0s 85us/step - loss: 0.1736 - acc: 0.9334 - val_loss: 0.1146 - val_acc: 0.9668\n",
      "Epoch 3/10\n",
      "4457/4457 [==============================] - 0s 89us/step - loss: 0.1187 - acc: 0.9610 - val_loss: 0.1020 - val_acc: 0.9704\n",
      "Epoch 4/10\n",
      "4457/4457 [==============================] - 0s 89us/step - loss: 0.0996 - acc: 0.9688 - val_loss: 0.1001 - val_acc: 0.9677\n",
      "Epoch 5/10\n",
      "4457/4457 [==============================] - 0s 93us/step - loss: 0.0938 - acc: 0.9695 - val_loss: 0.1018 - val_acc: 0.9677\n",
      "Epoch 6/10\n",
      "4457/4457 [==============================] - 0s 95us/step - loss: 0.0884 - acc: 0.9713 - val_loss: 0.0990 - val_acc: 0.9668\n",
      "Epoch 7/10\n",
      "4457/4457 [==============================] - 0s 85us/step - loss: 0.0770 - acc: 0.9780 - val_loss: 0.0974 - val_acc: 0.9695\n",
      "Epoch 8/10\n",
      "4457/4457 [==============================] - 0s 89us/step - loss: 0.0749 - acc: 0.9776 - val_loss: 0.0963 - val_acc: 0.9677\n",
      "Epoch 9/10\n",
      "4457/4457 [==============================] - 0s 90us/step - loss: 0.0698 - acc: 0.9771 - val_loss: 0.0966 - val_acc: 0.9668\n",
      "Epoch 10/10\n",
      "4457/4457 [==============================] - 0s 99us/step - loss: 0.0638 - acc: 0.9807 - val_loss: 0.0988 - val_acc: 0.9668\n"
     ]
    },
    {
     "data": {
      "text/plain": [
       "<keras.callbacks.History at 0x7fdc405d1668>"
      ]
     },
     "execution_count": 26,
     "metadata": {},
     "output_type": "execute_result"
    }
   ],
   "source": [
    "model.fit(tfidf_mat,y,batch_size=32,epochs=10,verbose=1,validation_split=0.2)"
   ]
  }
 ],
 "metadata": {
  "kernelspec": {
   "display_name": "Python 3",
   "language": "python",
   "name": "python3"
  },
  "language_info": {
   "codemirror_mode": {
    "name": "ipython",
    "version": 3
   },
   "file_extension": ".py",
   "mimetype": "text/x-python",
   "name": "python",
   "nbconvert_exporter": "python",
   "pygments_lexer": "ipython3",
   "version": "3.5.2"
  }
 },
 "nbformat": 4,
 "nbformat_minor": 2
}
