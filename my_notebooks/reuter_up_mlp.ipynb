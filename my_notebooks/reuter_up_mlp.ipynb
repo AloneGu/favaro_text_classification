{
 "cells": [
  {
   "cell_type": "code",
   "execution_count": 1,
   "metadata": {},
   "outputs": [
    {
     "name": "stderr",
     "output_type": "stream",
     "text": [
      "Using TensorFlow backend.\n"
     ]
    },
    {
     "name": "stdout",
     "output_type": "stream",
     "text": [
      "Loading data...\n"
     ]
    }
   ],
   "source": [
    "'''Trains and evaluate a simple MLP\n",
    "on the Reuters newswire topic classification task.\n",
    "'''\n",
    "from __future__ import print_function\n",
    "\n",
    "import numpy as np\n",
    "import keras\n",
    "from keras.datasets import reuters\n",
    "from keras.models import Sequential\n",
    "from keras.layers import Dense, Dropout, Activation\n",
    "from keras.preprocessing.text import Tokenizer\n",
    "\n",
    "max_words = 1000\n",
    "batch_size = 32\n",
    "epochs = 20\n",
    "\n",
    "print('Loading data...')\n",
    "(x_train, y_train), (x_test, y_test) = reuters.load_data(num_words=max_words,\n",
    "                                                         test_split=0.2)"
   ]
  },
  {
   "cell_type": "code",
   "execution_count": 2,
   "metadata": {},
   "outputs": [
    {
     "name": "stdout",
     "output_type": "stream",
     "text": [
      "8982 train sequences\n",
      "2246 test sequences\n",
      "check data\n",
      "[ [1, 2, 2, 8, 43, 10, 447, 5, 25, 207, 270, 5, 2, 111, 16, 369, 186, 90, 67, 7, 89, 5, 19, 102, 6, 19, 124, 15, 90, 67, 84, 22, 482, 26, 7, 48, 4, 49, 8, 864, 39, 209, 154, 6, 151, 6, 83, 11, 15, 22, 155, 11, 15, 7, 48, 9, 2, 2, 504, 6, 258, 6, 272, 11, 15, 22, 134, 44, 11, 15, 16, 8, 197, 2, 90, 67, 52, 29, 209, 30, 32, 132, 6, 109, 15, 17, 12]\n",
      " [1, 2, 699, 2, 2, 56, 2, 2, 9, 56, 2, 2, 81, 5, 2, 57, 366, 737, 132, 20, 2, 7, 2, 49, 2, 2, 2, 2, 699, 2, 8, 7, 10, 241, 16, 855, 129, 231, 783, 5, 4, 587, 2, 2, 2, 775, 7, 48, 34, 191, 44, 35, 2, 505, 17, 12]]\n",
      "[3 4]\n",
      "46 classes\n",
      "Vectorizing sequence data...\n",
      "x_train shape: (8982, 1000)\n",
      "x_test shape: (2246, 1000)\n",
      "check data\n",
      "[[ 0.  1.  1. ...,  0.  0.  0.]\n",
      " [ 0.  1.  1. ...,  0.  0.  0.]]\n",
      "Convert class vector to binary class matrix (for use with categorical_crossentropy)\n",
      "y_train shape: (8982, 46)\n",
      "y_test shape: (2246, 46)\n",
      "[[ 0.  0.  0.  1.  0.  0.  0.  0.  0.  0.  0.  0.  0.  0.  0.  0.  0.  0.\n",
      "   0.  0.  0.  0.  0.  0.  0.  0.  0.  0.  0.  0.  0.  0.  0.  0.  0.  0.\n",
      "   0.  0.  0.  0.  0.  0.  0.  0.  0.  0.]\n",
      " [ 0.  0.  0.  0.  1.  0.  0.  0.  0.  0.  0.  0.  0.  0.  0.  0.  0.  0.\n",
      "   0.  0.  0.  0.  0.  0.  0.  0.  0.  0.  0.  0.  0.  0.  0.  0.  0.  0.\n",
      "   0.  0.  0.  0.  0.  0.  0.  0.  0.  0.]]\n"
     ]
    }
   ],
   "source": [
    "print(len(x_train), 'train sequences')\n",
    "print(len(x_test), 'test sequences')\n",
    "print('check data')\n",
    "print(x_train[:2])\n",
    "print(y_train[:2])\n",
    "\n",
    "num_classes = np.max(y_train) + 1\n",
    "print(num_classes, 'classes')\n",
    "\n",
    "print('Vectorizing sequence data...')\n",
    "tokenizer = Tokenizer(num_words=max_words)\n",
    "x_train = tokenizer.sequences_to_matrix(x_train, mode='binary')\n",
    "x_test = tokenizer.sequences_to_matrix(x_test, mode='binary')\n",
    "print('x_train shape:', x_train.shape)\n",
    "print('x_test shape:', x_test.shape)\n",
    "print('check data')\n",
    "print(x_train[:2])\n",
    "\n",
    "\n",
    "print('Convert class vector to binary class matrix '\n",
    "      '(for use with categorical_crossentropy)')\n",
    "y_train = keras.utils.to_categorical(y_train, num_classes)\n",
    "y_test = keras.utils.to_categorical(y_test, num_classes)\n",
    "print('y_train shape:', y_train.shape)\n",
    "print('y_test shape:', y_test.shape)\n",
    "print(y_train[:2])"
   ]
  },
  {
   "cell_type": "code",
   "execution_count": 3,
   "metadata": {},
   "outputs": [
    {
     "name": "stdout",
     "output_type": "stream",
     "text": [
      "Building model...\n",
      "Train on 8083 samples, validate on 899 samples\n",
      "Epoch 1/20\n",
      "8083/8083 [==============================] - 14s - loss: 1.4292 - acc: 0.6783 - val_loss: 1.0892 - val_acc: 0.7664\n",
      "Epoch 2/20\n",
      "8083/8083 [==============================] - 11s - loss: 0.7889 - acc: 0.8174 - val_loss: 0.9380 - val_acc: 0.7864\n",
      "Epoch 3/20\n",
      "8083/8083 [==============================] - 10s - loss: 0.5508 - acc: 0.8645 - val_loss: 0.8934 - val_acc: 0.7964\n",
      "Epoch 4/20\n",
      "8083/8083 [==============================] - 10s - loss: 0.4161 - acc: 0.8995 - val_loss: 0.8791 - val_acc: 0.8076\n",
      "Epoch 5/20\n",
      "8083/8083 [==============================] - 10s - loss: 0.3255 - acc: 0.9169 - val_loss: 0.9076 - val_acc: 0.7998\n",
      "Epoch 6/20\n",
      "8083/8083 [==============================] - 8s - loss: 0.2802 - acc: 0.9296 - val_loss: 0.9176 - val_acc: 0.8065\n",
      "Epoch 7/20\n",
      "8083/8083 [==============================] - 8s - loss: 0.2405 - acc: 0.9372 - val_loss: 0.9421 - val_acc: 0.8042\n",
      "Epoch 8/20\n",
      "8083/8083 [==============================] - 8s - loss: 0.2168 - acc: 0.9419 - val_loss: 0.9749 - val_acc: 0.7998\n",
      "Epoch 9/20\n",
      "8083/8083 [==============================] - 9s - loss: 0.1916 - acc: 0.9479 - val_loss: 1.0221 - val_acc: 0.7998\n",
      "Epoch 10/20\n",
      "8083/8083 [==============================] - 15s - loss: 0.1800 - acc: 0.9509 - val_loss: 1.0102 - val_acc: 0.7864\n",
      "Epoch 11/20\n",
      "8083/8083 [==============================] - 15s - loss: 0.1853 - acc: 0.9467 - val_loss: 1.0625 - val_acc: 0.7931\n",
      "Epoch 12/20\n",
      "8083/8083 [==============================] - 16s - loss: 0.1692 - acc: 0.9516 - val_loss: 1.0731 - val_acc: 0.7898\n",
      "Epoch 13/20\n",
      "8083/8083 [==============================] - 15s - loss: 0.1751 - acc: 0.9525 - val_loss: 1.0733 - val_acc: 0.7853\n",
      "Epoch 14/20\n",
      "8083/8083 [==============================] - 15s - loss: 0.1603 - acc: 0.9543 - val_loss: 1.0813 - val_acc: 0.7964\n",
      "Epoch 15/20\n",
      "8083/8083 [==============================] - 16s - loss: 0.1579 - acc: 0.9548 - val_loss: 1.1041 - val_acc: 0.7931\n",
      "Epoch 16/20\n",
      "8083/8083 [==============================] - 16s - loss: 0.1582 - acc: 0.9560 - val_loss: 1.1145 - val_acc: 0.7853\n",
      "Epoch 17/20\n",
      "8083/8083 [==============================] - 14s - loss: 0.1444 - acc: 0.9593 - val_loss: 1.1202 - val_acc: 0.7987\n",
      "Epoch 18/20\n",
      "8083/8083 [==============================] - 15s - loss: 0.1613 - acc: 0.9561 - val_loss: 1.1482 - val_acc: 0.7942\n",
      "Epoch 19/20\n",
      "8083/8083 [==============================] - 15s - loss: 0.1394 - acc: 0.9595 - val_loss: 1.1553 - val_acc: 0.7898\n",
      "Epoch 20/20\n",
      "8083/8083 [==============================] - 17s - loss: 0.1535 - acc: 0.9535 - val_loss: 1.1623 - val_acc: 0.7931\n",
      "2246/2246 [==============================] - 1s     \n",
      "Test score: 1.16571402826\n",
      "Test accuracy: 0.783615316118\n"
     ]
    }
   ],
   "source": [
    "print('Building model...')\n",
    "model = Sequential()\n",
    "model.add(Dense(512, input_shape=(max_words,)))\n",
    "model.add(Activation('relu'))\n",
    "model.add(Dropout(0.5))\n",
    "model.add(Dense(num_classes))\n",
    "model.add(Activation('softmax'))\n",
    "\n",
    "model.compile(loss='categorical_crossentropy',\n",
    "              optimizer='adam',\n",
    "              metrics=['accuracy'])\n",
    "\n",
    "history = model.fit(x_train, y_train,\n",
    "                    epochs=epochs, batch_size=batch_size,\n",
    "                    verbose=1, validation_split=0.1)\n",
    "score = model.evaluate(x_test, y_test,\n",
    "                       batch_size=batch_size, verbose=1)\n",
    "print('Test score:', score[0])\n",
    "print('Test accuracy:', score[1])"
   ]
  },
  {
   "cell_type": "code",
   "execution_count": 4,
   "metadata": {},
   "outputs": [
    {
     "name": "stdout",
     "output_type": "stream",
     "text": [
      "[3, 10, 1, 16, 13, 3, 3, 3, 3, 3]\n",
      "[3, 10, 1, 4, 4, 3, 3, 3, 3, 3]\n"
     ]
    }
   ],
   "source": [
    "pred = model.predict(x_test[:10])\n",
    "print([np.argmax(x) for x in pred])\n",
    "print([np.argmax(x) for x in y_test[:10]])"
   ]
  }
 ],
 "metadata": {
  "kernelspec": {
   "display_name": "Python 3",
   "language": "python",
   "name": "python3"
  },
  "language_info": {
   "codemirror_mode": {
    "name": "ipython",
    "version": 3
   },
   "file_extension": ".py",
   "mimetype": "text/x-python",
   "name": "python",
   "nbconvert_exporter": "python",
   "pygments_lexer": "ipython3",
   "version": "3.5.2"
  }
 },
 "nbformat": 4,
 "nbformat_minor": 2
}
