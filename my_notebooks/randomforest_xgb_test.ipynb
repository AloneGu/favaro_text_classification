{
 "cells": [
  {
   "cell_type": "code",
   "execution_count": 1,
   "metadata": {},
   "outputs": [
    {
     "name": "stderr",
     "output_type": "stream",
     "text": [
      "Using TensorFlow backend.\n"
     ]
    },
    {
     "name": "stdout",
     "output_type": "stream",
     "text": [
      "Loading data...\n",
      "8982 train sequences\n",
      "2246 test sequences\n",
      "check data\n",
      "[ [1, 2, 2, 8, 43, 10, 447, 5, 25, 207, 270, 5, 2, 111, 16, 369, 186, 90, 67, 7, 89, 5, 19, 102, 6, 19, 124, 15, 90, 67, 84, 22, 482, 26, 7, 48, 4, 49, 8, 864, 39, 209, 154, 6, 151, 6, 83, 11, 15, 22, 155, 11, 15, 7, 48, 9, 2, 2, 504, 6, 258, 6, 272, 11, 15, 22, 134, 44, 11, 15, 16, 8, 197, 2, 90, 67, 52, 29, 209, 30, 32, 132, 6, 109, 15, 17, 12]\n",
      " [1, 2, 699, 2, 2, 56, 2, 2, 9, 56, 2, 2, 81, 5, 2, 57, 366, 737, 132, 20, 2, 7, 2, 49, 2, 2, 2, 2, 699, 2, 8, 7, 10, 241, 16, 855, 129, 231, 783, 5, 4, 587, 2, 2, 2, 775, 7, 48, 34, 191, 44, 35, 2, 505, 17, 12]]\n",
      "[3 4]\n",
      "46 classes\n",
      "Vectorizing sequence data...\n",
      "x_train shape: (8982, 1000)\n",
      "x_test shape: (2246, 1000)\n",
      "check data\n",
      "[[ 0.  1.  1. ...,  0.  0.  0.]\n",
      " [ 0.  1.  1. ...,  0.  0.  0.]]\n"
     ]
    }
   ],
   "source": [
    "import numpy as np\n",
    "import keras\n",
    "from keras.datasets import reuters\n",
    "from keras.models import Sequential\n",
    "from keras.layers import Dense, Dropout, Activation\n",
    "from keras.preprocessing.text import Tokenizer\n",
    "\n",
    "max_words = 1000\n",
    "batch_size = 32\n",
    "epochs = 5\n",
    "\n",
    "print('Loading data...')\n",
    "(x_train, y_train), (x_test, y_test) = reuters.load_data(num_words=max_words,\n",
    "                                                         test_split=0.2)\n",
    "print(len(x_train), 'train sequences')\n",
    "print(len(x_test), 'test sequences')\n",
    "print('check data')\n",
    "print(x_train[:2])\n",
    "print(y_train[:2])\n",
    "\n",
    "num_classes = np.max(y_train) + 1\n",
    "print(num_classes, 'classes')\n",
    "\n",
    "print('Vectorizing sequence data...')\n",
    "tokenizer = Tokenizer(num_words=max_words)\n",
    "x_train = tokenizer.sequences_to_matrix(x_train, mode='binary')\n",
    "x_test = tokenizer.sequences_to_matrix(x_test, mode='binary')\n",
    "print('x_train shape:', x_train.shape)\n",
    "print('x_test shape:', x_test.shape)\n",
    "print('check data')\n",
    "print(x_train[:2])\n",
    "\n",
    "# no need for random forest\n",
    "# print('Convert class vector to binary class matrix '\n",
    "#       '(for use with categorical_crossentropy)')\n",
    "# y_train = keras.utils.to_categorical(y_train, num_classes)\n",
    "# y_test = keras.utils.to_categorical(y_test, num_classes)\n",
    "# print('y_train shape:', y_train.shape)\n",
    "# print('y_test shape:', y_test.shape)\n",
    "# print(y_train[:2])"
   ]
  },
  {
   "cell_type": "code",
   "execution_count": 2,
   "metadata": {},
   "outputs": [
    {
     "name": "stdout",
     "output_type": "stream",
     "text": [
      "fit done\n"
     ]
    }
   ],
   "source": [
    "from sklearn.ensemble import RandomForestClassifier\n",
    "from sklearn import metrics\n",
    "model = RandomForestClassifier(max_features='auto',n_estimators=30)\n",
    "model.fit(x_train,y_train)\n",
    "print('fit done')"
   ]
  },
  {
   "cell_type": "code",
   "execution_count": 3,
   "metadata": {},
   "outputs": [
    {
     "name": "stdout",
     "output_type": "stream",
     "text": [
      "train\n",
      "             precision    recall  f1-score   support\n",
      "\n",
      "          0       0.90      0.96      0.93        55\n",
      "          1       0.97      0.97      0.97       432\n",
      "          2       0.99      0.99      0.99        74\n",
      "          3       0.97      0.98      0.98      3159\n",
      "          4       0.97      0.97      0.97      1949\n",
      "          5       1.00      0.94      0.97        17\n",
      "          6       1.00      1.00      1.00        48\n",
      "          7       0.94      1.00      0.97        16\n",
      "          8       0.93      0.93      0.93       139\n",
      "          9       0.95      0.97      0.96       101\n",
      "         10       0.97      0.94      0.95       124\n",
      "         11       0.97      0.96      0.97       390\n",
      "         12       0.98      0.96      0.97        49\n",
      "         13       0.97      0.97      0.97       172\n",
      "         14       0.96      0.88      0.92        26\n",
      "         15       1.00      1.00      1.00        20\n",
      "         16       0.96      0.95      0.96       444\n",
      "         17       1.00      0.97      0.99        39\n",
      "         18       0.98      0.95      0.97        66\n",
      "         19       0.95      0.94      0.94       549\n",
      "         20       0.94      0.91      0.92       269\n",
      "         21       0.97      0.97      0.97       100\n",
      "         22       0.94      1.00      0.97        15\n",
      "         23       1.00      0.93      0.96        41\n",
      "         24       1.00      1.00      1.00        62\n",
      "         25       0.98      0.99      0.98        92\n",
      "         26       1.00      1.00      1.00        24\n",
      "         27       0.94      1.00      0.97        15\n",
      "         28       0.96      0.96      0.96        48\n",
      "         29       1.00      1.00      1.00        19\n",
      "         30       0.95      0.93      0.94        45\n",
      "         31       1.00      0.97      0.99        39\n",
      "         32       1.00      0.97      0.98        32\n",
      "         33       1.00      1.00      1.00        11\n",
      "         34       0.96      0.96      0.96        50\n",
      "         35       1.00      0.90      0.95        10\n",
      "         36       0.91      0.88      0.90        49\n",
      "         37       1.00      0.89      0.94        19\n",
      "         38       1.00      0.84      0.91        19\n",
      "         39       1.00      0.96      0.98        24\n",
      "         40       0.91      0.86      0.89        36\n",
      "         41       0.97      0.97      0.97        30\n",
      "         42       1.00      1.00      1.00        13\n",
      "         43       1.00      0.95      0.98        21\n",
      "         44       1.00      1.00      1.00        12\n",
      "         45       1.00      1.00      1.00        18\n",
      "\n",
      "avg / total       0.97      0.97      0.97      8982\n",
      "\n"
     ]
    }
   ],
   "source": [
    "print('train')\n",
    "pred = model.predict(x_train)\n",
    "print(metrics.classification_report(y_train,pred))"
   ]
  },
  {
   "cell_type": "code",
   "execution_count": 4,
   "metadata": {},
   "outputs": [
    {
     "name": "stdout",
     "output_type": "stream",
     "text": [
      "test\n",
      "             precision    recall  f1-score   support\n",
      "\n",
      "          0       0.64      0.75      0.69        12\n",
      "          1       0.57      0.80      0.67       105\n",
      "          2       0.75      0.30      0.43        20\n",
      "          3       0.90      0.92      0.91       813\n",
      "          4       0.73      0.89      0.80       474\n",
      "          5       0.00      0.00      0.00         5\n",
      "          6       1.00      0.71      0.83        14\n",
      "          7       1.00      0.33      0.50         3\n",
      "          8       0.69      0.76      0.72        38\n",
      "          9       0.77      0.68      0.72        25\n",
      "         10       0.87      0.90      0.89        30\n",
      "         11       0.57      0.77      0.65        83\n",
      "         12       0.60      0.23      0.33        13\n",
      "         13       0.51      0.51      0.51        37\n",
      "         14       0.00      0.00      0.00         2\n",
      "         15       1.00      0.11      0.20         9\n",
      "         16       0.64      0.73      0.68        99\n",
      "         17       0.00      0.00      0.00        12\n",
      "         18       0.63      0.60      0.62        20\n",
      "         19       0.66      0.76      0.70       133\n",
      "         20       0.61      0.39      0.47        70\n",
      "         21       0.67      0.52      0.58        27\n",
      "         22       0.00      0.00      0.00         7\n",
      "         23       0.25      0.08      0.12        12\n",
      "         24       0.40      0.11      0.17        19\n",
      "         25       0.92      0.35      0.51        31\n",
      "         26       1.00      0.12      0.22         8\n",
      "         27       1.00      0.25      0.40         4\n",
      "         28       0.33      0.10      0.15        10\n",
      "         29       0.25      0.25      0.25         4\n",
      "         30       1.00      0.17      0.29        12\n",
      "         31       0.00      0.00      0.00        13\n",
      "         32       1.00      0.20      0.33        10\n",
      "         33       1.00      0.80      0.89         5\n",
      "         34       0.50      0.29      0.36         7\n",
      "         35       1.00      0.17      0.29         6\n",
      "         36       0.50      0.18      0.27        11\n",
      "         37       1.00      0.50      0.67         2\n",
      "         38       0.00      0.00      0.00         3\n",
      "         39       0.00      0.00      0.00         5\n",
      "         40       1.00      0.20      0.33        10\n",
      "         41       0.00      0.00      0.00         8\n",
      "         42       0.00      0.00      0.00         3\n",
      "         43       0.80      0.67      0.73         6\n",
      "         44       1.00      0.80      0.89         5\n",
      "         45       1.00      1.00      1.00         1\n",
      "\n",
      "avg / total       0.75      0.76      0.74      2246\n",
      "\n"
     ]
    },
    {
     "name": "stderr",
     "output_type": "stream",
     "text": [
      "/usr/local/lib/python3.5/dist-packages/sklearn/metrics/classification.py:1113: UndefinedMetricWarning: Precision and F-score are ill-defined and being set to 0.0 in labels with no predicted samples.\n",
      "  'precision', 'predicted', average, warn_for)\n"
     ]
    }
   ],
   "source": [
    "print('test')\n",
    "pred = model.predict(x_test)\n",
    "print(metrics.classification_report(y_test,pred))"
   ]
  },
  {
   "cell_type": "code",
   "execution_count": 8,
   "metadata": {},
   "outputs": [
    {
     "name": "stdout",
     "output_type": "stream",
     "text": [
      "fit done\n"
     ]
    }
   ],
   "source": [
    "# test xgb\n",
    "from xgboost import XGBClassifier\n",
    "model = XGBClassifier(n_estimators=30, subsample=0.8)\n",
    "model.fit(x_train,y_train)\n",
    "print('fit done')"
   ]
  },
  {
   "cell_type": "code",
   "execution_count": 9,
   "metadata": {},
   "outputs": [
    {
     "name": "stdout",
     "output_type": "stream",
     "text": [
      "train\n",
      "             precision    recall  f1-score   support\n",
      "\n",
      "          0       0.92      0.89      0.91        55\n",
      "          1       0.81      0.84      0.82       432\n",
      "          2       0.76      0.59      0.67        74\n",
      "          3       0.93      0.92      0.92      3159\n",
      "          4       0.78      0.92      0.84      1949\n",
      "          5       1.00      0.18      0.30        17\n",
      "          6       0.96      0.94      0.95        48\n",
      "          7       0.92      0.75      0.83        16\n",
      "          8       0.90      0.61      0.73       139\n",
      "          9       0.90      0.97      0.93       101\n",
      "         10       0.88      0.92      0.90       124\n",
      "         11       0.76      0.85      0.80       390\n",
      "         12       0.84      0.76      0.80        49\n",
      "         13       0.77      0.63      0.69       172\n",
      "         14       0.78      0.96      0.86        26\n",
      "         15       1.00      0.60      0.75        20\n",
      "         16       0.76      0.80      0.78       444\n",
      "         17       0.93      0.67      0.78        39\n",
      "         18       0.93      0.85      0.89        66\n",
      "         19       0.78      0.77      0.77       549\n",
      "         20       0.74      0.62      0.68       269\n",
      "         21       0.86      0.83      0.85       100\n",
      "         22       1.00      0.33      0.50        15\n",
      "         23       0.86      0.29      0.44        41\n",
      "         24       0.86      0.61      0.72        62\n",
      "         25       0.79      0.93      0.86        92\n",
      "         26       1.00      0.58      0.74        24\n",
      "         27       1.00      0.47      0.64        15\n",
      "         28       0.93      0.52      0.67        48\n",
      "         29       1.00      0.42      0.59        19\n",
      "         30       0.93      0.84      0.88        45\n",
      "         31       0.82      0.72      0.77        39\n",
      "         32       1.00      0.50      0.67        32\n",
      "         33       1.00      0.82      0.90        11\n",
      "         34       0.90      0.86      0.88        50\n",
      "         35       0.90      0.90      0.90        10\n",
      "         36       0.84      0.53      0.65        49\n",
      "         37       0.89      0.42      0.57        19\n",
      "         38       1.00      0.58      0.73        19\n",
      "         39       1.00      0.29      0.45        24\n",
      "         40       1.00      0.06      0.11        36\n",
      "         41       0.88      0.23      0.37        30\n",
      "         42       1.00      0.38      0.56        13\n",
      "         43       0.83      0.90      0.86        21\n",
      "         44       1.00      0.75      0.86        12\n",
      "         45       0.89      0.94      0.92        18\n",
      "\n",
      "avg / total       0.85      0.84      0.84      8982\n",
      "\n"
     ]
    }
   ],
   "source": [
    "print('train')\n",
    "pred = model.predict(x_train)\n",
    "print(metrics.classification_report(y_train,pred))"
   ]
  },
  {
   "cell_type": "code",
   "execution_count": 10,
   "metadata": {},
   "outputs": [
    {
     "name": "stdout",
     "output_type": "stream",
     "text": [
      "test\n",
      "             precision    recall  f1-score   support\n",
      "\n",
      "          0       0.90      0.75      0.82        12\n",
      "          1       0.69      0.74      0.72       105\n",
      "          2       0.69      0.55      0.61        20\n",
      "          3       0.92      0.91      0.92       813\n",
      "          4       0.71      0.88      0.78       474\n",
      "          5       0.00      0.00      0.00         5\n",
      "          6       0.93      0.93      0.93        14\n",
      "          7       0.67      0.67      0.67         3\n",
      "          8       0.69      0.66      0.68        38\n",
      "          9       0.77      0.92      0.84        25\n",
      "         10       0.91      0.97      0.94        30\n",
      "         11       0.61      0.65      0.63        83\n",
      "         12       1.00      0.62      0.76        13\n",
      "         13       0.54      0.54      0.54        37\n",
      "         14       0.25      0.50      0.33         2\n",
      "         15       0.67      0.44      0.53         9\n",
      "         16       0.65      0.82      0.72        99\n",
      "         17       0.62      0.42      0.50        12\n",
      "         18       0.86      0.60      0.71        20\n",
      "         19       0.72      0.62      0.67       133\n",
      "         20       0.57      0.50      0.53        70\n",
      "         21       0.63      0.70      0.67        27\n",
      "         22       0.00      0.00      0.00         7\n",
      "         23       0.71      0.42      0.53        12\n",
      "         24       0.67      0.32      0.43        19\n",
      "         25       0.87      0.87      0.87        31\n",
      "         26       1.00      0.25      0.40         8\n",
      "         27       0.00      0.00      0.00         4\n",
      "         28       0.67      0.20      0.31        10\n",
      "         29       0.67      0.50      0.57         4\n",
      "         30       0.86      0.50      0.63        12\n",
      "         31       0.80      0.31      0.44        13\n",
      "         32       1.00      0.50      0.67        10\n",
      "         33       0.75      0.60      0.67         5\n",
      "         34       0.80      0.57      0.67         7\n",
      "         35       1.00      0.50      0.67         6\n",
      "         36       0.62      0.45      0.53        11\n",
      "         37       0.00      0.00      0.00         2\n",
      "         38       0.00      0.00      0.00         3\n",
      "         39       0.00      0.00      0.00         5\n",
      "         40       0.00      0.00      0.00        10\n",
      "         41       0.50      0.12      0.20         8\n",
      "         42       0.00      0.00      0.00         3\n",
      "         43       0.71      0.83      0.77         6\n",
      "         44       1.00      0.80      0.89         5\n",
      "         45       1.00      1.00      1.00         1\n",
      "\n",
      "avg / total       0.77      0.78      0.77      2246\n",
      "\n"
     ]
    },
    {
     "name": "stderr",
     "output_type": "stream",
     "text": [
      "/usr/local/lib/python3.5/dist-packages/sklearn/metrics/classification.py:1113: UndefinedMetricWarning: Precision and F-score are ill-defined and being set to 0.0 in labels with no predicted samples.\n",
      "  'precision', 'predicted', average, warn_for)\n"
     ]
    }
   ],
   "source": [
    "print('test')\n",
    "pred = model.predict(x_test)\n",
    "print(metrics.classification_report(y_test,pred))"
   ]
  }
 ],
 "metadata": {
  "kernelspec": {
   "display_name": "Python 3",
   "language": "python",
   "name": "python3"
  },
  "language_info": {
   "codemirror_mode": {
    "name": "ipython",
    "version": 3
   },
   "file_extension": ".py",
   "mimetype": "text/x-python",
   "name": "python",
   "nbconvert_exporter": "python",
   "pygments_lexer": "ipython3",
   "version": "3.5.2"
  }
 },
 "nbformat": 4,
 "nbformat_minor": 2
}
